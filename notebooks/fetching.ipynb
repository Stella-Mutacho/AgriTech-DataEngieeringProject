{
 "cells": [
  {
   "cell_type": "code",
   "execution_count": null,
   "metadata": {},
   "outputs": [],
   "source": [
    "conda install -c conda-forge rasterio -y"
   ]
  },
  {
   "cell_type": "code",
   "execution_count": null,
   "metadata": {},
   "outputs": [],
   "source": [
    "conda install -c conda-forge laspy -y"
   ]
  },
  {
   "cell_type": "code",
   "execution_count": null,
   "metadata": {},
   "outputs": [],
   "source": [
    "conda install -c conda-forge folium -y"
   ]
  },
  {
   "cell_type": "code",
   "execution_count": null,
   "metadata": {},
   "outputs": [],
   "source": [
    "conda install -c conda-forge pandas -y"
   ]
  },
  {
   "cell_type": "code",
   "execution_count": null,
   "metadata": {},
   "outputs": [],
   "source": [
    "conda install -c conda-forge geopandas -y"
   ]
  },
  {
   "cell_type": "code",
   "execution_count": null,
   "metadata": {},
   "outputs": [],
   "source": [
    "conda install -c conda-forge python-pdal -y"
   ]
  },
  {
   "cell_type": "code",
   "execution_count": null,
   "metadata": {},
   "outputs": [],
   "source": [
    "conda install -c conda-forge ipywidgets -y"
   ]
  },
  {
   "cell_type": "code",
   "execution_count": null,
   "metadata": {},
   "outputs": [],
   "source": [
    "conda install -c conda-forge imageio -y"
   ]
  },
  {
   "cell_type": "markdown",
   "metadata": {},
   "source": [
    "#### Importing all the required packages"
   ]
  },
  {
   "cell_type": "code",
   "execution_count": 3,
   "metadata": {},
   "outputs": [],
   "source": [
    "import requests\n",
    "import folium\n",
    "import urllib\n",
    "from pandas.io.json import json_normalize\n",
    "import pandas as pd\n",
    "import folium\n",
    "import geopandas as gpd\n",
    "from shapely.geometry import Point\n",
    "from pyproj import CRS, Transformer\n",
    "import os\n",
    "import pdal\n",
    "from osgeo import gdal\n",
    "import json\n",
    "from ipywidgets import interact\n",
    "from ipywidgets import widgets\n",
    "import imageio\n",
    "import pathlib\n",
    "import matplotlib.pyplot as plt\n",
    "import mapclassify as mc\n",
    "import numpy as np\n",
    "import laspy\n",
    "import rasterio\n",
    "from rasterio import mask\n",
    "from glob import glob\n",
    "from shapely.geometry import box\n",
    "%matplotlib inline\n",
    "import matplotlib as mpl\n",
    "import matplotlib.pyplot as plt\n",
    "from mpl_toolkits.axes_grid1.axes_divider import make_axes_locatable\n",
    "from mpl_toolkits.mplot3d import Axes3D\n",
    "import numpy as np"
   ]
  },
  {
   "cell_type": "code",
   "execution_count": 4,
   "metadata": {},
   "outputs": [],
   "source": [
    "data= requests.get(\"https://s3-us-west-2.amazonaws.com/usgs-lidar-public/AK_Coastal_2009/ept.json\")"
   ]
  },
  {
   "cell_type": "code",
   "execution_count": 8,
   "metadata": {},
   "outputs": [],
   "source": [
    "data_json=data.json()"
   ]
  },
  {
   "cell_type": "code",
   "execution_count": 9,
   "metadata": {},
   "outputs": [
    {
     "data": {
      "text/plain": [
       "{'bounds': [-15730544, 10937407, -19027, -15691854, 10976097, 19663],\n",
       " 'boundsConforming': [-15730543, 10941090, -3, -15691855, 10972414, 638],\n",
       " 'dataType': 'laszip',\n",
       " 'hierarchyType': 'json',\n",
       " 'points': 55711772,\n",
       " 'schema': [{'name': 'X',\n",
       "   'offset': -15711199,\n",
       "   'scale': 0.01,\n",
       "   'size': 4,\n",
       "   'type': 'signed'},\n",
       "  {'name': 'Y',\n",
       "   'offset': 10956752,\n",
       "   'scale': 0.01,\n",
       "   'size': 4,\n",
       "   'type': 'signed'},\n",
       "  {'name': 'Z', 'offset': 318, 'scale': 0.01, 'size': 4, 'type': 'signed'},\n",
       "  {'name': 'Intensity', 'size': 2, 'type': 'unsigned'},\n",
       "  {'name': 'ReturnNumber', 'size': 1, 'type': 'unsigned'},\n",
       "  {'name': 'NumberOfReturns', 'size': 1, 'type': 'unsigned'},\n",
       "  {'name': 'ScanDirectionFlag', 'size': 1, 'type': 'unsigned'},\n",
       "  {'name': 'EdgeOfFlightLine', 'size': 1, 'type': 'unsigned'},\n",
       "  {'name': 'Classification', 'size': 1, 'type': 'unsigned'},\n",
       "  {'name': 'ScanAngleRank', 'size': 4, 'type': 'float'},\n",
       "  {'name': 'UserData', 'size': 1, 'type': 'unsigned'},\n",
       "  {'name': 'PointSourceId', 'size': 2, 'type': 'unsigned'},\n",
       "  {'name': 'GpsTime', 'size': 8, 'type': 'float'},\n",
       "  {'name': 'OriginId', 'size': 4, 'type': 'unsigned'}],\n",
       " 'span': 256,\n",
       " 'srs': {'authority': 'EPSG',\n",
       "  'horizontal': '3857',\n",
       "  'wkt': 'PROJCS[\"WGS 84 / Pseudo-Mercator\",GEOGCS[\"WGS 84\",DATUM[\"WGS_1984\",SPHEROID[\"WGS 84\",6378137,298.257223563,AUTHORITY[\"EPSG\",\"7030\"]],AUTHORITY[\"EPSG\",\"6326\"]],PRIMEM[\"Greenwich\",0,AUTHORITY[\"EPSG\",\"8901\"]],UNIT[\"degree\",0.0174532925199433,AUTHORITY[\"EPSG\",\"9122\"]],AUTHORITY[\"EPSG\",\"4326\"]],PROJECTION[\"Mercator_1SP\"],PARAMETER[\"central_meridian\",0],PARAMETER[\"scale_factor\",1],PARAMETER[\"false_easting\",0],PARAMETER[\"false_northing\",0],UNIT[\"metre\",1,AUTHORITY[\"EPSG\",\"9001\"]],AXIS[\"X\",EAST],AXIS[\"Y\",NORTH],EXTENSION[\"PROJ4\",\"+proj=merc +a=6378137 +b=6378137 +lat_ts=0.0 +lon_0=0.0 +x_0=0.0 +y_0=0 +k=1.0 +units=m +nadgrids=@null +wktext +no_defs\"],AUTHORITY[\"EPSG\",\"3857\"]]'},\n",
       " 'version': '1.1.0'}"
      ]
     },
     "execution_count": 9,
     "metadata": {},
     "output_type": "execute_result"
    }
   ],
   "source": [
    "data_json"
   ]
  },
  {
   "cell_type": "markdown",
   "metadata": {},
   "source": [
    "#### Defining the data paths"
   ]
  },
  {
   "cell_type": "code",
   "execution_count": null,
   "metadata": {},
   "outputs": [],
   "source": [
    "PUBLIC_ACCESS_PATH= \"https://s3-us-west-2.amazonaws.com/usgs-lidar-public/\"\n",
    "\n",
    "\n",
    "\n"
   ]
  },
  {
   "cell_type": "code",
   "execution_count": null,
   "metadata": {},
   "outputs": [],
   "source": [
    "## Define a function for running a pdal pipeline and returning the filename as output\n",
    "    def run_pipeline(self):\n",
    "        pipeline_def =  [\n",
    "        {\n",
    "            \"bounds\": self.pdal_aoi_bounds,\n",
    "            \"filename\": self.PUBLIC_ACCESS_PATH,\n",
    "            \"type\": \"readers.ept\",\n",
    "            \"tag\": \"readdata\"\n",
    "        },\n",
    "        {\n",
    "            \"limits\": \"Classification![2:7], Classification![9:9]\",\n",
    "            \"type\": \"filters.range\",\n",
    "            \"tag\": \"nonoise\"\n",
    "        },\n",
    "        {\n",
    "            \"filename\": \"spatial_subset.laz\",\n",
    "            \"inputs\": [ \"nonoise\" ],\n",
    "            \"tag\": \"writerslas\",\n",
    "            \"type\": \"writers.las\"\n",
    "        },\n",
    "       {\n",
    "            \"filename\": \"spatial_subset.tif\",\n",
    "            \"gdalopts\": \"tiled=yes,     compress=deflate\",\n",
    "            \"inputs\": [ \"writerslas\" ],\n",
    "            \"nodata\": -9999,\n",
    "            \"output_type\": \"idw\",\n",
    "            \"resolution\": 1,\n",
    "            \"type\": \"writers.gdal\",\n",
    "            \"window_size\": 6\n",
    "        },\n",
    "        {\n",
    "        \"type\" : \"writers.text\",\n",
    "        \"format\": \"geojson\",\n",
    "        \"write_header\": True\n",
    "        }\n",
    "    ]"
   ]
  },
  {
   "cell_type": "code",
   "execution_count": null,
   "metadata": {},
   "outputs": [],
   "source": [
    "[\n",
    "    {\n",
    "        \"bounds\": \"([-11669524.7, -11666600.8], [4776607.3, 4778714.4])\",\n",
    "        \"filename\":\"https://s3-us-west-2.amazonaws.com/usgs-lidar-public/AK_Coastal_2009/ept.json\",\n",
    "        \"type\": \"readers.ept\"\n",
    "    },\n",
    "    {\n",
    "        \"limits\": \"Classification[2:2]\",\n",
    "        \"type\": \"filters.range\",\n",
    "        \"tag\": \"classify\"\n",
    "    },\n",
    "    {\n",
    "        \"filename\": \"test.laz\",\n",
    "        \"inputs\": [ \"classify\" ],\n",
    "        \"tag\": \"writerslas\",\n",
    "        \"type\": \"writers.las\"\n",
    "    },\n",
    "    {\n",
    "        \"filename\": \"test.tif\",\n",
    "        \"gdalopts\": \"tiled=yes,     compress=deflate\",\n",
    "        \"inputs\": [ \"writerslas\" ],\n",
    "        \"nodata\": -9999,\n",
    "        \"output_type\": \"idw\",\n",
    "        \"resolution\": 1,\n",
    "        \"type\": \"writers.gdal\",\n",
    "        \"window_size\": 6\n",
    "    }\n",
    "]"
   ]
  }
 ],
 "metadata": {
  "interpreter": {
   "hash": "ba7371d0eafdb20a92c6fc0f12a5e68fc4371092dc8dceea42e3c6417162681e"
  },
  "kernelspec": {
   "display_name": "Python 3.10.5 64-bit (windows store)",
   "language": "python",
   "name": "python3"
  },
  "language_info": {
   "codemirror_mode": {
    "name": "ipython",
    "version": 3
   },
   "file_extension": ".py",
   "mimetype": "text/x-python",
   "name": "python",
   "nbconvert_exporter": "python",
   "pygments_lexer": "ipython3",
   "version": "3.9.12"
  },
  "orig_nbformat": 4
 },
 "nbformat": 4,
 "nbformat_minor": 2
}
